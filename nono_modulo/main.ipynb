{
 "cells": [
  {
   "cell_type": "code",
   "execution_count": 1,
   "metadata": {},
   "outputs": [],
   "source": [
    "import pandas as pd\n",
    "import numpy as np"
   ]
  },
  {
   "cell_type": "markdown",
   "metadata": {},
   "source": [
    "## Acquiring Data"
   ]
  },
  {
   "cell_type": "markdown",
   "metadata": {},
   "source": [
    "Treinar o modelo apenas com as features que existirão nos dados a serem previstos."
   ]
  },
  {
   "cell_type": "code",
   "execution_count": 2,
   "metadata": {},
   "outputs": [],
   "source": [
    "test = pd.read_csv('test.csv')\n",
    "features = test.columns\n",
    "\n",
    "def load_train(train_path, features, target):\n",
    "    train = pd.read_csv(train_path)    \n",
    "    train_features = np.append(features, target)\n",
    "    train = train.loc[:, train_features]\n",
    "    return train\n",
    "\n",
    "train = load_train('train.csv', features, 'IN_TREINEIRO')"
   ]
  },
  {
   "cell_type": "code",
   "execution_count": 3,
   "metadata": {},
   "outputs": [
    {
     "data": {
      "text/plain": [
       "((13730, 44), (4570, 43))"
      ]
     },
     "execution_count": 3,
     "metadata": {},
     "output_type": "execute_result"
    }
   ],
   "source": [
    "train.shape, test.shape"
   ]
  },
  {
   "cell_type": "markdown",
   "metadata": {},
   "source": [
    "###  Analisando dados faltantes\n",
    "Total relativo de dados faltantes em bases de treino e teste. "
   ]
  },
  {
   "cell_type": "code",
   "execution_count": 4,
   "metadata": {},
   "outputs": [],
   "source": [
    "def missing(dataframe, name='missing'):\n",
    "    missing = dataframe.isnull().mean().sort_values(ascending=False).to_frame(name)\n",
    "    return missing[missing.iloc[:, 0] > 0]"
   ]
  },
  {
   "cell_type": "code",
   "execution_count": 5,
   "metadata": {
    "scrolled": true
   },
   "outputs": [
    {
     "data": {
      "text/html": [
       "<div>\n",
       "<style scoped>\n",
       "    .dataframe tbody tr th:only-of-type {\n",
       "        vertical-align: middle;\n",
       "    }\n",
       "\n",
       "    .dataframe tbody tr th {\n",
       "        vertical-align: top;\n",
       "    }\n",
       "\n",
       "    .dataframe thead th {\n",
       "        text-align: right;\n",
       "    }\n",
       "</style>\n",
       "<table border=\"1\" class=\"dataframe\">\n",
       "  <thead>\n",
       "    <tr style=\"text-align: right;\">\n",
       "      <th></th>\n",
       "      <th>test_missing</th>\n",
       "      <th>train_missing</th>\n",
       "    </tr>\n",
       "  </thead>\n",
       "  <tbody>\n",
       "    <tr>\n",
       "      <th>TP_DEPENDENCIA_ADM_ESC</th>\n",
       "      <td>0.687965</td>\n",
       "      <td>0.688128</td>\n",
       "    </tr>\n",
       "    <tr>\n",
       "      <th>TP_ENSINO</th>\n",
       "      <td>0.687965</td>\n",
       "      <td>0.688128</td>\n",
       "    </tr>\n",
       "    <tr>\n",
       "      <th>Q027</th>\n",
       "      <td>0.533260</td>\n",
       "      <td>0.536999</td>\n",
       "    </tr>\n",
       "    <tr>\n",
       "      <th>NU_NOTA_COMP1</th>\n",
       "      <td>0.256018</td>\n",
       "      <td>0.261981</td>\n",
       "    </tr>\n",
       "    <tr>\n",
       "      <th>NU_NOTA_COMP5</th>\n",
       "      <td>0.256018</td>\n",
       "      <td>0.261981</td>\n",
       "    </tr>\n",
       "    <tr>\n",
       "      <th>TP_STATUS_REDACAO</th>\n",
       "      <td>0.256018</td>\n",
       "      <td>0.261981</td>\n",
       "    </tr>\n",
       "    <tr>\n",
       "      <th>NU_NOTA_COMP2</th>\n",
       "      <td>0.256018</td>\n",
       "      <td>0.261981</td>\n",
       "    </tr>\n",
       "    <tr>\n",
       "      <th>NU_NOTA_COMP3</th>\n",
       "      <td>0.256018</td>\n",
       "      <td>0.261981</td>\n",
       "    </tr>\n",
       "    <tr>\n",
       "      <th>NU_NOTA_COMP4</th>\n",
       "      <td>0.256018</td>\n",
       "      <td>0.261981</td>\n",
       "    </tr>\n",
       "    <tr>\n",
       "      <th>NU_NOTA_REDACAO</th>\n",
       "      <td>0.256018</td>\n",
       "      <td>0.261981</td>\n",
       "    </tr>\n",
       "    <tr>\n",
       "      <th>NU_NOTA_LC</th>\n",
       "      <td>0.256018</td>\n",
       "      <td>0.261981</td>\n",
       "    </tr>\n",
       "    <tr>\n",
       "      <th>NU_NOTA_CH</th>\n",
       "      <td>0.243326</td>\n",
       "      <td>0.246832</td>\n",
       "    </tr>\n",
       "    <tr>\n",
       "      <th>NU_NOTA_CN</th>\n",
       "      <td>0.243326</td>\n",
       "      <td>0.246832</td>\n",
       "    </tr>\n",
       "  </tbody>\n",
       "</table>\n",
       "</div>"
      ],
      "text/plain": [
       "                        test_missing  train_missing\n",
       "TP_DEPENDENCIA_ADM_ESC      0.687965       0.688128\n",
       "TP_ENSINO                   0.687965       0.688128\n",
       "Q027                        0.533260       0.536999\n",
       "NU_NOTA_COMP1               0.256018       0.261981\n",
       "NU_NOTA_COMP5               0.256018       0.261981\n",
       "TP_STATUS_REDACAO           0.256018       0.261981\n",
       "NU_NOTA_COMP2               0.256018       0.261981\n",
       "NU_NOTA_COMP3               0.256018       0.261981\n",
       "NU_NOTA_COMP4               0.256018       0.261981\n",
       "NU_NOTA_REDACAO             0.256018       0.261981\n",
       "NU_NOTA_LC                  0.256018       0.261981\n",
       "NU_NOTA_CH                  0.243326       0.246832\n",
       "NU_NOTA_CN                  0.243326       0.246832"
      ]
     },
     "execution_count": 5,
     "metadata": {},
     "output_type": "execute_result"
    }
   ],
   "source": [
    "pd.concat([missing(test, 'test_missing'), missing(train, 'train_missing')], axis=1)"
   ]
  },
  {
   "cell_type": "markdown",
   "metadata": {},
   "source": [
    "## Verificando o Balanceamento das Classes\n"
   ]
  },
  {
   "cell_type": "code",
   "execution_count": 6,
   "metadata": {},
   "outputs": [],
   "source": [
    "import matplotlib.pyplot as plt\n",
    "from IPython.core.pylabtools import figsize\n",
    "figsize(12, 8)"
   ]
  },
  {
   "cell_type": "markdown",
   "metadata": {},
   "source": [
    "Balanceamento das classes. Deixar a mesma quantidade de amostras para cada uma."
   ]
  },
  {
   "cell_type": "code",
   "execution_count": 7,
   "metadata": {
    "scrolled": true
   },
   "outputs": [
    {
     "data": {
      "image/png": "[encoded data removed]",
      "text/plain": [
       "<Figure size 432x288 with 1 Axes>"
      ]
     },
     "metadata": {
      "needs_background": "light"
     },
     "output_type": "display_data"
    }
   ],
   "source": [
    "plt.title('IN_TREINEIRO - balanceamento')\n",
    "train.groupby('IN_TREINEIRO')['IN_TREINEIRO'].count().plot(kind='bar');"
   ]
  },
  {
   "cell_type": "markdown",
   "metadata": {},
   "source": [
    "## Helpers - preparando os dados\n",
    "Aqui se encontram algumas funções para ajudar no tratamento dos dados. A seguir as funções 'pipeline' representam cada etapa da criação do modelo."
   ]
  },
  {
   "cell_type": "code",
   "execution_count": 8,
   "metadata": {},
   "outputs": [],
   "source": [
    "from sklearn.preprocessing import KBinsDiscretizer\n",
    "\n",
    "def impute_grades_with_0(train, test):\n",
    "    impute_grades = {\n",
    "        'TP_PRESENCA_CN': ['NU_NOTA_CN'], \n",
    "        'TP_PRESENCA_CH': ['NU_NOTA_CH'], \n",
    "        'TP_PRESENCA_LC': [\n",
    "            'NU_NOTA_LC', \n",
    "            'NU_NOTA_COMP1', \n",
    "            'NU_NOTA_COMP2', \n",
    "            'NU_NOTA_COMP3', \n",
    "            'NU_NOTA_COMP4', \n",
    "            'NU_NOTA_COMP5', \n",
    "            'NU_NOTA_REDACAO'\n",
    "        ]\n",
    "    }   \n",
    "    for attendance, grades in impute_grades.items():\n",
    "        train.loc[(train[attendance] != 1), grades] = 0\n",
    "    \n",
    "    for attendance, grades in impute_grades.items():\n",
    "        test.loc[(test[attendance] != 1), grades] = 0\n",
    "        \n",
    "    # se faltou prova ficou em branco(4), se eliminado foi anulada (2)\n",
    "    train.loc[train.TP_PRESENCA_LC == 2, 'TP_STATUS_REDACAO'] = 2\n",
    "    train.loc[train.TP_PRESENCA_LC == 0, 'TP_STATUS_REDACAO'] = 4\n",
    "    test.loc[train.TP_PRESENCA_LC == 2, 'TP_STATUS_REDACAO'] = 2\n",
    "    test.loc[train.TP_PRESENCA_LC == 0, 'TP_STATUS_REDACAO'] = 4\n",
    "    \n",
    "def drop_eliminated_cn_ch(train):\n",
    "    index = train[(train['TP_PRESENCA_CN'] == 2)  | (train['TP_PRESENCA_CH'] == 2)].index\n",
    "    train.drop(index, axis=0, inplace=True)\n",
    "    \n",
    "def discretize_nu_idade(train, test):\n",
    "    discretizer = KBinsDiscretizer(n_bins=4, encode=\"ordinal\", strategy=\"quantile\")\n",
    "    discretizer.fit(train[['NU_IDADE']])\n",
    "    train['NU_IDADE'] = discretizer.transform(train[['NU_IDADE']]).astype(int)\n",
    "    test['NU_IDADE'] = discretizer.transform(test[['NU_IDADE']]).astype(int)\n",
    "    train['NU_IDADE'] = train['NU_IDADE'].astype('category')\n",
    "    test['NU_IDADE'] = test['NU_IDADE'].astype('category')\n",
    "        \n",
    "def discard_features(train, test):\n",
    "    to_discard = [\n",
    "        # já existe CO_UF_RESIDENCIA\n",
    "        'SG_UF_RESIDENCIA', \n",
    "        # só diz respeito a quem já concluiu (nem todos concluíram)\n",
    "        'TP_ANO_CONCLUIU', \n",
    "        # features com missing data: a princípio serão excluídas do modelo\n",
    "        'TP_ENSINO', \n",
    "        'TP_DEPENDENCIA_ADM_ESC',\n",
    "        'Q027',\n",
    "        # tem apenas uma classe (0)\n",
    "        'IN_CEGUEIRA'\n",
    "    ]\n",
    "    train.drop(to_discard, inplace=True, axis=1)\n",
    "    test.drop(to_discard, inplace=True, axis=1)   \n",
    "        \n",
    "def correct_dtypes(train, test):\n",
    "    size = lambda x: round(x.memory_usage().sum() / (1024*1024), 3)        \n",
    "    to_float = [it for it in test.columns.values if 'NU_NOTA' in it]    \n",
    "    to_category = [it for it in test.columns.values if 'NU_' not in it] \n",
    "    \n",
    "    size_before = (size(train), size(test))\n",
    "    \n",
    "    test[to_float] = test[to_float].astype(float)\n",
    "    train[to_float] = train[to_float].astype(float)    \n",
    "    test[to_category] = test[to_category].astype('category')\n",
    "    train[to_category] = train[to_category].astype('category')        \n",
    "    size_after = (size(train), size(test))    \n",
    "    return size_before, size_after\n",
    "\n",
    "def anova_selection(train):\n",
    "    from AnovaTest import AnovaTest as tt\n",
    "    anova_test = tt(train, train.columns).run()\n",
    "    anova_test = pd.DataFrame(\n",
    "        data=anova_test, \n",
    "        columns=['feature', 'F-score', 'P-value']\n",
    "    ).set_index(\n",
    "        'feature'\n",
    "    ).sort_values('P-value', ascending=True)\n",
    "    anova_test = anova_test[(anova_test['P-value'] < 0.001)].sort_values('F-score', ascending=False)\n",
    "    return np.append(\n",
    "        ['NU_INSCRICAO'],\n",
    "        np.append(\n",
    "            anova_test[(anova_test['P-value'] < 0.001)].sort_values('F-score', ascending=False).index.values,\n",
    "            train.select_dtypes(include=float).columns\n",
    "        )\n",
    "    )"
   ]
  },
  {
   "cell_type": "markdown",
   "metadata": {},
   "source": [
    "Esta função plota a matriz de confusão. Foi extraída do curso **Machine Learning**, via Cognitive Class, IBM."
   ]
  },
  {
   "cell_type": "code",
   "execution_count": 9,
   "metadata": {},
   "outputs": [],
   "source": [
    "import pylab as plt\n",
    "from sklearn.metrics import classification_report, confusion_matrix\n",
    "import itertools\n",
    "def plot_confusion_matrix(cm, classes, normalize=False, title='Confusion matrix', cmap=plt.cm.Blues):\n",
    "    \"\"\"\n",
    "    This function prints and plots the confusion matrix.\n",
    "    Normalization can be applied by setting `normalize=True`.\n",
    "    \"\"\"\n",
    "    if normalize:\n",
    "        cm = cm.astype('float') / cm.sum(axis=1)[:, np.newaxis]\n",
    "        print(\"Normalized confusion matrix\")\n",
    "    else:\n",
    "        print('Confusion matrix, without normalization')\n",
    "\n",
    "    plt.imshow(cm, interpolation='nearest', cmap=cmap)\n",
    "    plt.title(title)\n",
    "    plt.colorbar()\n",
    "    tick_marks = np.arange(len(classes))\n",
    "    plt.xticks(tick_marks, classes, rotation=45)\n",
    "    plt.yticks(tick_marks, classes)\n",
    "\n",
    "    fmt = '.2f' if normalize else 'd'\n",
    "    thresh = cm.max() / 2.\n",
    "    for i, j in itertools.product(range(cm.shape[0]), range(cm.shape[1])):\n",
    "        plt.text(j, i, format(cm[i, j], fmt),\n",
    "                 horizontalalignment=\"center\",\n",
    "                 color=\"white\" if cm[i, j] > thresh else \"black\")\n",
    "\n",
    "    plt.tight_layout()\n",
    "    plt.ylabel('True label')\n",
    "    plt.xlabel('Predicted label')"
   ]
  },
  {
   "cell_type": "code",
   "execution_count": 10,
   "metadata": {},
   "outputs": [],
   "source": [
    "def pipeline_data_dealing(train, test):\n",
    "    discard_features(train, test)\n",
    "    impute_grades_with_0(train, test)\n",
    "    drop_eliminated_cn_ch(train)\n",
    "    discretize_nu_idade(train, test)\n",
    "    correct_dtypes(train, test)\n",
    "\n",
    "def pipeline_data_selection_anova(train, test):\n",
    "    columns_anova = anova_selection(train)\n",
    "    train = train.loc[:, np.append(columns_anova, 'IN_TREINEIRO')].copy() \n",
    "    test = test.loc[:, columns_anova].copy()\n",
    "    return train, test\n",
    "    \n",
    "def pipeline_get_dummies(train, test):\n",
    "    cat_columns = train.select_dtypes(include='category').columns\n",
    "    if cat_columns.size:\n",
    "        train = pd.concat([train, pd.get_dummies(train[cat_columns], drop_first=True)], axis=1)\n",
    "        train.drop(cat_columns, axis=1, inplace=True)\n",
    "\n",
    "        test = pd.concat([test, pd.get_dummies(test[cat_columns], drop_first=True)], axis=1)\n",
    "        test.drop(cat_columns, axis=1, inplace=True)\n",
    "    return train, test\n",
    "        \n",
    "def pipeline_data_selection_kbest(train, test):\n",
    "    from sklearn.feature_selection import SelectKBest\n",
    "    kbest = SelectKBest(k=30)\n",
    "    kbest.fit(\n",
    "        train.drop(['NU_INSCRICAO', 'IN_TREINEIRO'], axis=1), \n",
    "        train.loc[:, 'IN_TREINEIRO']\n",
    "    )\n",
    "    kbest_features = train.drop(['NU_INSCRICAO', 'IN_TREINEIRO'], axis=1).columns.values[kbest.get_support()]\n",
    "    \n",
    "    train = pd.concat([train.loc[:, 'NU_INSCRICAO'], train.loc[:, kbest_features], train.loc[:, 'IN_TREINEIRO']], axis=1)\n",
    "    test = pd.concat([test.loc[:, 'NU_INSCRICAO'], test.loc[:, kbest_features]], axis=1)\n",
    "    return train, test\n",
    "\n",
    "def undersampling(train):\n",
    "    n_sample = train.groupby('IN_TREINEIRO')['IN_TREINEIRO'].count().min()\n",
    "    undersampled = train.groupby(\n",
    "        'IN_TREINEIRO', group_keys=False\n",
    "    ).apply(\n",
    "        lambda x: x.sample(n=n_sample, random_state=42)\n",
    "    )\n",
    "    return undersampled\n",
    "    \n",
    "def oversampling(train):\n",
    "    from imblearn.over_sampling import SMOTE\n",
    "    sm = SMOTE(random_state=42)\n",
    "    x, y = sm.fit_sample(train.drop(['IN_TREINEIRO','NU_INSCRICAO'], axis=1), train.loc[:, 'IN_TREINEIRO'])\n",
    "    return pd.concat([x, y], axis=1)\n",
    "\n",
    "def pipeline_data_training_undersampling(train):\n",
    "    from sklearn.model_selection import train_test_split\n",
    "    from sklearn.linear_model import LogisticRegression\n",
    "    from sklearn.metrics import confusion_matrix, log_loss\n",
    "    \n",
    "    undersampled = undersampling(train)\n",
    "    X = undersampled.drop(['NU_INSCRICAO', 'IN_TREINEIRO'], axis=1)\n",
    "    y = undersampled.loc[:, 'IN_TREINEIRO']\n",
    "    x_train, x_test, y_train, y_test = train_test_split(X, y, test_size=0.2, random_state=42)\n",
    "    \n",
    "    LR = LogisticRegression(C=0.01, solver='liblinear').fit(x_train,y_train)\n",
    "    \n",
    "    yhat = LR.predict(x_test)\n",
    "    yhat_prob = LR.predict_proba(x_test) \n",
    "    log_loss = log_loss(y_test, yhat_prob)\n",
    "    cnf = confusion_matrix(y_test, yhat, labels=[1,0])\n",
    "    return LR, {'yhat':yhat, \n",
    "                'proba':yhat_prob, \n",
    "                'log_loss':log_loss, \n",
    "                'confusion':cnf,\n",
    "                'report':classification_report(y_test, yhat, output_dict=False)\n",
    "               }\n",
    "\n",
    "def pipeline_data_training_oversampling(train):\n",
    "    from imblearn.over_sampling import SMOTE\n",
    "    from sklearn.model_selection import train_test_split\n",
    "    from sklearn.linear_model import LogisticRegression\n",
    "    from sklearn.metrics import confusion_matrix, log_loss\n",
    "    \n",
    "    oversampled = oversampling(train)\n",
    "    X = oversampled.drop('IN_TREINEIRO', axis=1)\n",
    "    y = oversampled.loc[:, 'IN_TREINEIRO']\n",
    "    x_train, x_test, y_train, y_test = train_test_split(X, y, test_size=0.2, random_state=42)\n",
    "    \n",
    "    LR = LogisticRegression(C=0.01, solver='liblinear').fit(x_train,y_train)\n",
    "    \n",
    "    yhat = LR.predict(x_test)\n",
    "    yhat_prob = LR.predict_proba(x_test) \n",
    "    log_loss = log_loss(y_test, yhat_prob)\n",
    "    cnf = confusion_matrix(y_test, yhat, labels=[1,0])\n",
    "    return LR, {'yhat':yhat, \n",
    "                'proba':yhat_prob, \n",
    "                'log_loss':log_loss, \n",
    "                'confusion':cnf,\n",
    "                'report':classification_report(y_test, yhat, output_dict=False)\n",
    "               }"
   ]
  },
  {
   "cell_type": "markdown",
   "metadata": {},
   "source": [
    "## Criando os Modelos\n",
    "\n",
    "Serão criados dois modelos"
   ]
  },
  {
   "cell_type": "markdown",
   "metadata": {},
   "source": [
    "### Testar duas técnicas para resolver o problema do desbalanceamento de classes:\n",
    " \n",
    " - Undersampling:\n",
    "     - Reduzir a quantidade de amostras da classe dominante igualando sua quantidade de amostras à da classe menos frequente.\n",
    " - Oversampling\n",
    "     - Gerar amostras sintéticas randômicas da classe menos frequente igualando sua quantidade de amostras à da classe mais frequente. \n",
    "     - Usar técnica SMOTE (Synthetic Minority Over-sampling Technique)"
   ]
  },
  {
   "cell_type": "code",
   "execution_count": 11,
   "metadata": {},
   "outputs": [],
   "source": [
    "test = pd.read_csv('test.csv')\n",
    "features = test.columns\n",
    "train = load_train('train.csv', features, 'IN_TREINEIRO')\n",
    "\n",
    "pipeline_data_dealing(train, test)\n",
    "train, test = pipeline_data_selection_anova(train, test)\n",
    "train, test = pipeline_get_dummies(train, test)\n",
    "train, test = pipeline_data_selection_kbest(train, test)\n",
    "model_undersampled, metrics_undersampled = pipeline_data_training_undersampling(train)\n",
    "model_oversampled, metrics_oversampled = pipeline_data_training_oversampling(train)"
   ]
  },
  {
   "cell_type": "markdown",
   "metadata": {},
   "source": [
    "## Avaliando os Modelos"
   ]
  },
  {
   "cell_type": "markdown",
   "metadata": {},
   "source": [
    "### Matriz Confusão"
   ]
  },
  {
   "cell_type": "code",
   "execution_count": 12,
   "metadata": {},
   "outputs": [],
   "source": [
    "np.set_printoptions(precision=2)"
   ]
  },
  {
   "cell_type": "code",
   "execution_count": 13,
   "metadata": {
    "scrolled": true
   },
   "outputs": [
    {
     "name": "stdout",
     "output_type": "stream",
     "text": [
      "Confusion matrix, without normalization\n"
     ]
    },
    {
     "data": {
      "image/png": "[encoded data removed]",
      "text/plain": [
       "<Figure size 432x288 with 2 Axes>"
      ]
     },
     "metadata": {
      "needs_background": "light"
     },
     "output_type": "display_data"
    }
   ],
   "source": [
    "plt.figure()\n",
    "plot_confusion_matrix(\n",
    "    metrics_undersampled['confusion'], \n",
    "    classes=['IN_TREINEIRO=1','IN_TREINEIRO=0'],\n",
    "    normalize= False,  \n",
    "    title='Matriz Confusão - Undersampled Data'\n",
    ")\n",
    "plt.show()\n"
   ]
  },
  {
   "cell_type": "code",
   "execution_count": 14,
   "metadata": {
    "scrolled": true
   },
   "outputs": [
    {
     "name": "stdout",
     "output_type": "stream",
     "text": [
      "Confusion matrix, without normalization\n"
     ]
    },
    {
     "data": {
      "image/png": "[encoded data removed]",
      "text/plain": [
       "<Figure size 432x288 with 2 Axes>"
      ]
     },
     "metadata": {
      "needs_background": "light"
     },
     "output_type": "display_data"
    }
   ],
   "source": [
    "plt.figure()\n",
    "plot_confusion_matrix(\n",
    "    metrics_oversampled['confusion'], \n",
    "    classes=['IN_TREINEIRO=1','IN_TREINEIRO=0'],\n",
    "    normalize= False,  \n",
    "    title='Matriz Confusão - Oversampled Data'\n",
    ")\n",
    "plt.show()\n"
   ]
  },
  {
   "cell_type": "markdown",
   "metadata": {},
   "source": [
    "### Relatório de Classificação"
   ]
  },
  {
   "cell_type": "code",
   "execution_count": 15,
   "metadata": {
    "scrolled": true
   },
   "outputs": [
    {
     "name": "stdout",
     "output_type": "stream",
     "text": [
      "\n",
      "\n",
      "Relatório de Classificação - Undersampled Data: \n",
      "\n",
      "              precision    recall  f1-score   support\n",
      "\n",
      "           0       1.00      0.95      0.97       378\n",
      "           1       0.94      1.00      0.97       335\n",
      "\n",
      "    accuracy                           0.97       713\n",
      "   macro avg       0.97      0.97      0.97       713\n",
      "weighted avg       0.97      0.97      0.97       713\n",
      "\n",
      "\n",
      "\n",
      "Relatório de Classificação - Oversampled Data: \n",
      "\n",
      "              precision    recall  f1-score   support\n",
      "\n",
      "           0       1.00      0.97      0.98      2414\n",
      "           1       0.97      1.00      0.98      2362\n",
      "\n",
      "    accuracy                           0.98      4776\n",
      "   macro avg       0.99      0.98      0.98      4776\n",
      "weighted avg       0.99      0.98      0.98      4776\n",
      "\n"
     ]
    }
   ],
   "source": [
    "print('\\n\\nRelatório de Classificação - Undersampled Data: \\n\\n{}'.format(metrics_undersampled['report']))\n",
    "print('\\n\\nRelatório de Classificação - Oversampled Data: \\n\\n{}'.format(metrics_oversampled['report']))"
   ]
  },
  {
   "cell_type": "markdown",
   "metadata": {},
   "source": [
    "### Log Loss"
   ]
  },
  {
   "cell_type": "code",
   "execution_count": 16,
   "metadata": {},
   "outputs": [
    {
     "name": "stdout",
     "output_type": "stream",
     "text": [
      "\n",
      "\n",
      "Log Loss - Undersampled Data: 0.2280240191161854\n",
      "\n",
      "\n",
      "Log Loss - Oversampled Data: 0.08733337360010997\n"
     ]
    }
   ],
   "source": [
    "print('\\n\\nLog Loss - Undersampled Data: {}'.format(metrics_undersampled['log_loss']))\n",
    "print('\\n\\nLog Loss - Oversampled Data: {}'.format(metrics_oversampled['log_loss']))"
   ]
  },
  {
   "cell_type": "markdown",
   "metadata": {},
   "source": [
    "## Conclusão"
   ]
  },
  {
   "cell_type": "markdown",
   "metadata": {
    "scrolled": true
   },
   "source": [
    "O modelo que usou a técnica de oversampling teve melhor desempenho que o modelo que utilizou undersampling."
   ]
  },
  {
   "cell_type": "markdown",
   "metadata": {},
   "source": [
    "## Prevendo o conjunto de teste e submetendo o desafio"
   ]
  },
  {
   "cell_type": "markdown",
   "metadata": {},
   "source": [
    "### Undersampled Model"
   ]
  },
  {
   "cell_type": "code",
   "execution_count": 17,
   "metadata": {},
   "outputs": [],
   "source": [
    "teste_undersampled = test.copy()\n",
    "teste_undersampled['IN_TREINEIRO'] = model_undersampled.predict(teste_undersampled.iloc[:, 1:])"
   ]
  },
  {
   "cell_type": "code",
   "execution_count": 18,
   "metadata": {},
   "outputs": [],
   "source": [
    "teste_undersampled[['NU_INSCRICAO', 'IN_TREINEIRO']].to_csv('answer.csv')"
   ]
  },
  {
   "cell_type": "code",
   "execution_count": 19,
   "metadata": {},
   "outputs": [
    {
     "name": "stdout",
     "output_type": "stream",
     "text": [
      "\u001b[37mVersão: \u001b[32m1.0.14\u001b[0m\n",
      "\n",
      "\u001b[0m\u001b[36mUsando arquivo de configuração: /home/flavia/.codenation.yml\n",
      "\u001b[0m\u001b[36m\n",
      "Executando testes...\n",
      "\n",
      "\u001b[0m{\"score\": 96.14879649890591}\n",
      "Preparando code review... 100% |████████████████████████████████████████|  [5s:0s]\u001b[32m\n",
      "Códigos submetidos com sucesso! \n",
      "\u001b[0m\u001b[32m\n",
      "Sua nota é: 96.148796\n",
      "\u001b[0m\u001b[36m\n",
      "Parabéns! Você superou este desafio!\n",
      "\u001b[0m\u001b[36m\n",
      "O que fazer agora?\n",
      "\u001b[0m\u001b[36m- Você pode continuar sua jornada escolhendo um novo desafio em https://www.codenation.com.br\n",
      "\u001b[0m\u001b[36m- Você pode ajudar outros desenvolvedores revisando códigos ou respondendo dúvidas no forum do desafio\n",
      "\u001b[0m\u001b[36m- Lembre-se que ensinar é uma ótima forma de ganhar reconhecimento e gera um bom karma ;)\n",
      "\u001b[0m"
     ]
    }
   ],
   "source": [
    "! codenation submit -c enem-4"
   ]
  },
  {
   "cell_type": "markdown",
   "metadata": {},
   "source": [
    "### Oversampled Model"
   ]
  },
  {
   "cell_type": "code",
   "execution_count": 20,
   "metadata": {},
   "outputs": [],
   "source": [
    "teste_oversampled = test.copy()\n",
    "teste_oversampled['IN_TREINEIRO'] = model_oversampled.predict(teste_oversampled.iloc[:, 1:])"
   ]
  },
  {
   "cell_type": "code",
   "execution_count": 21,
   "metadata": {},
   "outputs": [],
   "source": [
    "teste_oversampled[['NU_INSCRICAO', 'IN_TREINEIRO']].to_csv('answer.csv')"
   ]
  },
  {
   "cell_type": "code",
   "execution_count": 22,
   "metadata": {},
   "outputs": [
    {
     "name": "stdout",
     "output_type": "stream",
     "text": [
      "\u001b[37mVersão: \u001b[32m1.0.14\u001b[0m\n",
      "\n",
      "\u001b[0m\u001b[36mUsando arquivo de configuração: /home/flavia/.codenation.yml\n",
      "\u001b[0m\u001b[36m\n",
      "Executando testes...\n",
      "\n",
      "\u001b[0m{\"score\": 97.13347921225383}\n",
      "Preparando code review... 100% |████████████████████████████████████████|  [5s:0s]\u001b[32m\n",
      "Códigos submetidos com sucesso! \n",
      "\u001b[0m\u001b[32m\n",
      "Sua nota é: 97.133479\n",
      "\u001b[0m\u001b[36m\n",
      "Parabéns! Você superou este desafio!\n",
      "\u001b[0m\u001b[36m\n",
      "O que fazer agora?\n",
      "\u001b[0m\u001b[36m- Você pode continuar sua jornada escolhendo um novo desafio em https://www.codenation.com.br\n",
      "\u001b[0m\u001b[36m- Você pode ajudar outros desenvolvedores revisando códigos ou respondendo dúvidas no forum do desafio\n",
      "\u001b[0m\u001b[36m- Lembre-se que ensinar é uma ótima forma de ganhar reconhecimento e gera um bom karma ;)\n",
      "\u001b[0m"
     ]
    }
   ],
   "source": [
    "! codenation submit -c enem-4"
   ]
  }
 ],
 "metadata": {
  "kernelspec": {
   "display_name": "Python 3",
   "language": "python",
   "name": "python3"
  },
  "language_info": {
   "codemirror_mode": {
    "name": "ipython",
    "version": 3
   },
   "file_extension": ".py",
   "mimetype": "text/x-python",
   "name": "python",
   "nbconvert_exporter": "python",
   "pygments_lexer": "ipython3",
   "version": "3.6.9"
  }
 },
 "nbformat": 4,
 "nbformat_minor": 2
}
